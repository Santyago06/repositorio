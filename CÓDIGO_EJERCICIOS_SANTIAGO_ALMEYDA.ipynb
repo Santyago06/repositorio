{
  "nbformat": 4,
  "nbformat_minor": 0,
  "metadata": {
    "colab": {
      "provenance": [],
      "authorship_tag": "ABX9TyPHnhG0YjleOgRrfulq73c7",
      "include_colab_link": true
    },
    "kernelspec": {
      "name": "python3",
      "display_name": "Python 3"
    },
    "language_info": {
      "name": "python"
    }
  },
  "cells": [
    {
      "cell_type": "markdown",
      "metadata": {
        "id": "view-in-github",
        "colab_type": "text"
      },
      "source": [
        "<a href=\"https://colab.research.google.com/github/Santyago06/repositorio/blob/main/C%C3%93DIGO_EJERCICIOS_SANTIAGO_ALMEYDA.ipynb\" target=\"_parent\"><img src=\"https://colab.research.google.com/assets/colab-badge.svg\" alt=\"Open In Colab\"/></a>"
      ]
    },
    {
      "cell_type": "markdown",
      "source": [
        "CENTROIDE DE UN TRIÁNGULO"
      ],
      "metadata": {
        "id": "094YUo85oQW-"
      }
    },
    {
      "cell_type": "code",
      "source": [
        "from sympy import Matrix\n",
        "\n",
        "a = Matrix([1, 2])\n",
        "b = Matrix([4, 0])\n",
        "c = Matrix([2, 5])\n",
        "\n",
        "g = (a + b + c) / 3\n",
        "\n",
        "print(\"Centroide:\", g)"
      ],
      "metadata": {
        "colab": {
          "base_uri": "https://localhost:8080/"
        },
        "id": "FPzsh_uiXsM-",
        "outputId": "1c41f30b-c036-4c3a-854c-3811d71d5c55"
      },
      "execution_count": 1,
      "outputs": [
        {
          "output_type": "stream",
          "name": "stdout",
          "text": [
            "Centroide: Matrix([[7/3], [7/3]])\n"
          ]
        }
      ]
    },
    {
      "cell_type": "markdown",
      "source": [
        "EJERCICIO 6 SECCIÓN 1.27"
      ],
      "metadata": {
        "id": "-Z-4nd9OoXn1"
      }
    },
    {
      "cell_type": "code",
      "source": [
        "from sympy import Matrix, acos, pi\n",
        "\n",
        "# Definir vectores\n",
        "a = Matrix([1, 2, 3])\n",
        "b = Matrix([4, 5, 6])\n",
        "c = Matrix([3, 2, 1])\n",
        "d = Matrix([6, 5, 4])\n",
        "\n",
        "# (a) Sumas\n",
        "sum1 = a + b + c + d\n",
        "sum2 = a + b - c - d\n",
        "sum3 = a - b + c - d\n",
        "sum4 = -a + b - c + d\n",
        "\n",
        "print(\"a) Sumas:\")\n",
        "print(\"a+b+c+d =\", sum1)\n",
        "print(\"a+b-c-d =\", sum2)\n",
        "print(\"a-b+c-d =\", sum3)\n",
        "print(\"-a+b-c+d =\", sum4)\n",
        "\n",
        "# (b) Ángulo entre cada vector y los vectores base e1,e2,e3\n",
        "e1 = Matrix([1, 0, 0])\n",
        "e2 = Matrix([0, 1, 0])\n",
        "e3 = Matrix([0, 0, 1])\n",
        "\n",
        "def angulo(v, u):\n",
        "    return acos((v.dot(u)) / (v.norm() * u.norm())) * 180/pi\n",
        "\n",
        "print(\"\\nb) Ángulos con e1, e2, e3:\")\n",
        "for nombre, v in zip([\"a\", \"b\", \"c\", \"d\"], [a, b, c, d]):\n",
        "    print(f\"{nombre} con e1: {angulo(v,e1):.2f}°\")\n",
        "    print(f\"{nombre} con e2: {angulo(v,e2):.2f}°\")\n",
        "    print(f\"{nombre} con e3: {angulo(v,e3):.2f}°\")\n",
        "\n",
        "# (c) Magnitudes\n",
        "print(\"\\nc) Magnitudes:\")\n",
        "for nombre, v in zip([\"a\", \"b\", \"c\", \"d\"], [a, b, c, d]):\n",
        "    print(f\"|{nombre}| = {v.norm()}\")\n",
        "\n",
        "# (d) Ángulo entre a y b, y entre c y d\n",
        "print(\"\\nd) Ángulos:\")\n",
        "print(\"a y b:\", angulo(a, b), \"°\")\n",
        "print(\"c y d:\", angulo(c, d), \"°\")\n",
        "\n",
        "# (e) Proyección de a sobre b\n",
        "proy_ab = (a.dot(b) / b.norm()**2) * b\n",
        "print(\"\\ne) Proyección de a sobre b:\", proy_ab)\n",
        "\n",
        "# (f) Coplanaridad: verificamos si el producto mixto es 0\n",
        "triple_producto = a.dot(b.cross(c))\n",
        "print(\"\\nf) Coplanaridad (a,b,c):\", triple_producto == 0)\n",
        "\n",
        "# (g) (a + b) · (c + d)\n",
        "res_g = (a + b).dot(c + d)\n",
        "print(\"\\ng) (a+b)·(c+d) =\", res_g)\n",
        "\n",
        "# (h) Productos cruz y ángulos con d\n",
        "cross_ab = a.cross(b)\n",
        "cross_bc = b.cross(c)\n",
        "cross_cd = c.cross(d)\n",
        "\n",
        "print(\"\\nh) Productos cruz:\")\n",
        "print(\"a × b =\", cross_ab)\n",
        "print(\"b × c =\", cross_bc)\n",
        "print(\"c × d =\", cross_cd)\n",
        "\n",
        "print(\"\\nÁngulos de cada uno con d:\")\n",
        "print(\"a × b con d:\", angulo(cross_ab, d), \"°\")\n",
        "print(\"b × c con d:\", angulo(cross_bc, d), \"°\")\n",
        "print(\"c × d con d:\", angulo(cross_cd, d), \"°\")\n",
        "\n",
        "# (i) c · (a × b)\n",
        "res_i = c.dot(a.cross(b))\n",
        "print(\"\\ni) c · (a × b) =\", res_i)\n"
      ],
      "metadata": {
        "colab": {
          "base_uri": "https://localhost:8080/"
        },
        "id": "vrE-WAv92iul",
        "outputId": "7c75de2d-7b37-43e9-d3b9-d30988baf795"
      },
      "execution_count": 1,
      "outputs": [
        {
          "output_type": "stream",
          "name": "stdout",
          "text": [
            "a) Sumas:\n",
            "a+b+c+d = Matrix([[14], [14], [14]])\n",
            "a+b-c-d = Matrix([[-4], [0], [4]])\n",
            "a-b+c-d = Matrix([[-6], [-6], [-6]])\n",
            "-a+b-c+d = Matrix([[6], [6], [6]])\n",
            "\n",
            "b) Ángulos con e1, e2, e3:\n",
            "a con e1: 74.50°\n",
            "a con e2: 57.69°\n",
            "a con e3: 36.70°\n",
            "b con e1: 62.88°\n",
            "b con e2: 55.26°\n",
            "b con e3: 46.86°\n",
            "c con e1: 36.70°\n",
            "c con e2: 57.69°\n",
            "c con e3: 74.50°\n",
            "d con e1: 46.86°\n",
            "d con e2: 55.26°\n",
            "d con e3: 62.88°\n",
            "\n",
            "c) Magnitudes:\n",
            "|a| = sqrt(14)\n",
            "|b| = sqrt(77)\n",
            "|c| = sqrt(14)\n",
            "|d| = sqrt(77)\n",
            "\n",
            "d) Ángulos:\n",
            "a y b: 180*acos(16*sqrt(22)/77)/pi °\n",
            "c y d: 180*acos(16*sqrt(22)/77)/pi °\n",
            "\n",
            "e) Proyección de a sobre b: Matrix([[128/77], [160/77], [192/77]])\n",
            "\n",
            "f) Coplanaridad (a,b,c): True\n",
            "\n",
            "g) (a+b)·(c+d) = 139\n",
            "\n",
            "h) Productos cruz:\n",
            "a × b = Matrix([[-3], [6], [-3]])\n",
            "b × c = Matrix([[-7], [14], [-7]])\n",
            "c × d = Matrix([[3], [-6], [3]])\n",
            "\n",
            "Ángulos de cada uno con d:\n",
            "a × b con d: 90 °\n",
            "b × c con d: 90 °\n",
            "c × d con d: 90 °\n",
            "\n",
            "i) c · (a × b) = 0\n"
          ]
        }
      ]
    },
    {
      "cell_type": "markdown",
      "source": [
        "EJERCICIO 13 SECCIÓN 1.57"
      ],
      "metadata": {
        "id": "aoOD2gHQoozl"
      }
    },
    {
      "cell_type": "code",
      "source": [
        "# SymPy: cálculo del ejercicio 13\n",
        "from sympy import symbols, cos, sin, pi, integrate, simplify\n",
        "from sympy import Matrix\n",
        "\n",
        "# Parámetro\n",
        "theta = symbols('theta', real=True)\n",
        "\n",
        "# Campo F (en coordenadas x,y)\n",
        "# F = (- y/(x^2+y^2), x/(x^2+y^2))\n",
        "# En r = 1, x = cosθ, y = sinθ => simplifica a (-sinθ, cosθ)\n",
        "Fx = -sin(theta)\n",
        "Fy =  cos(theta)\n",
        "\n",
        "# r(θ) y r'(θ)\n",
        "rx = cos(theta)\n",
        "ry = sin(theta)\n",
        "rprime_x = -sin(theta)\n",
        "rprime_y =  cos(theta)\n",
        "\n",
        "# Producto escalar F(r(θ)) · r'(θ)\n",
        "dot_fr = simplify(Fx * rprime_x + Fy * rprime_y)\n",
        "\n",
        "# integrales de línea para los dos casos:\n",
        "I_a = integrate(dot_fr, (theta, 0, pi))   # 0 a π (CCW)\n",
        "I_b = integrate(dot_fr, (theta, 0, -pi))  # 0 a -π (CW)\n",
        "\n",
        "# trabajo hecho 'en contra del campo' = - ∫ F · dr\n",
        "W_contra_a = -I_a\n",
        "W_contra_b = -I_b\n",
        "\n",
        "print(\"F·r'(θ) =\", dot_fr)\n",
        "print(\"Integral (0 -> π) = \", I_a)\n",
        "print(\"Trabajo en contra (0 -> π) = \", W_contra_a)\n",
        "print(\"Integral (0 -> -π) = \", I_b)\n",
        "print(\"Trabajo en contra (0 -> -π) = \", W_contra_b)\n"
      ],
      "metadata": {
        "colab": {
          "base_uri": "https://localhost:8080/"
        },
        "id": "UuvI44cGh2Zn",
        "outputId": "248ec0f1-0aeb-4bdd-89fd-7e63aab71ee4"
      },
      "execution_count": 2,
      "outputs": [
        {
          "output_type": "stream",
          "name": "stdout",
          "text": [
            "F·r'(θ) = 1\n",
            "Integral (0 -> π) =  pi\n",
            "Trabajo en contra (0 -> π) =  -pi\n",
            "Integral (0 -> -π) =  -pi\n",
            "Trabajo en contra (0 -> -π) =  pi\n"
          ]
        }
      ]
    },
    {
      "cell_type": "code",
      "source": [],
      "metadata": {
        "id": "8SazJnufxsT4"
      },
      "execution_count": null,
      "outputs": []
    }
  ]
}